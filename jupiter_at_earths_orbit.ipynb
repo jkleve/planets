{
 "cells": [
  {
   "cell_type": "code",
   "execution_count": 1,
   "id": "639102b9-c3e0-4ed0-bf5f-27908a2add10",
   "metadata": {},
   "outputs": [],
   "source": [
    "import math"
   ]
  },
  {
   "cell_type": "markdown",
   "id": "58ef9827",
   "metadata": {},
   "source": [
    "# Compare Earth's velocity to Jupiter's velocity\n",
    "\n",
    "This is if they were both at Earth's radius from the Sun."
   ]
  },
  {
   "cell_type": "code",
   "execution_count": 2,
   "id": "12e39cd3-8847-4138-a3d3-8a286a65cf66",
   "metadata": {},
   "outputs": [],
   "source": [
    "G = 6.672 * 10**-11  # Nm^2 / kg^2\n",
    "M_e = 5.9722 * 10**24  # kg\n",
    "M_j = 1_898.13 * 10**24  # kg\n",
    "M_s = 1_988_400 * 10**24  # kg\n",
    "\n",
    "# radius of earth's orbit\n",
    "r_e = 149.598 * 10**6  # km\n",
    "\n",
    "# radius of sun\n",
    "r_s = 695,700  # km"
   ]
  },
  {
   "cell_type": "code",
   "execution_count": 3,
   "id": "f4cac6f6",
   "metadata": {},
   "outputs": [],
   "source": [
    "class OrbitEquations:\n",
    "    def specific_angular_momentum(self, r, v):\n",
    "        return r * v\n",
    "\n",
    "    def eccentricity(self, r, v):\n",
    "        h = self.specific_angular_momentum(r, v)\n",
    "        return math.sqrt(1 + (2 * h**2 * v**2) / (G * M_s * r))"
   ]
  },
  {
   "cell_type": "code",
   "execution_count": 4,
   "id": "1892be5f-d1e6-4cb5-bdc6-0d6bf14ad71f",
   "metadata": {},
   "outputs": [],
   "source": [
    "def get_v(m1, m2, r):\n",
    "    return math.sqrt((G * (m1 + m2)) / r)\n",
    "\n",
    "\n",
    "def km_to_m(km):\n",
    "    return 1000 * km\n",
    "\n",
    "\n",
    "def m_to_km(m):\n",
    "    return m / 1000\n",
    "\n",
    "\n",
    "def mps_to_mph(mps):\n",
    "    \"\"\"Converts m/s to mph\"\"\"\n",
    "    return 2.23694 * mps"
   ]
  },
  {
   "cell_type": "code",
   "execution_count": 5,
   "id": "3c22039d-7de6-41bc-a9d4-290a2c61989d",
   "metadata": {},
   "outputs": [
    {
     "name": "stdout",
     "output_type": "stream",
     "text": [
      "Velocity of earth sized object at earth's radius: 29.7795 km/s\n",
      "Velocity of jupiter sized object at earth's radius: 29.7937 km/s\n",
      "Difference of 14.1657 m/s or 31.6877 mph\n"
     ]
    }
   ],
   "source": [
    "velocity_earth = get_v(M_s, M_e, km_to_m(r_e)) # m/s\n",
    "velocity_jupyter = get_v(M_s, M_j, km_to_m(r_e)) # m/s\n",
    "\n",
    "v_e = m_to_km(get_v(M_s, M_e, km_to_m(r_e)))\n",
    "v_j = m_to_km(get_v(M_s, M_j, km_to_m(r_e)))\n",
    "\n",
    "print(f\"Velocity of earth sized object at earth's radius: {round(v_e, 4)} km/s\")\n",
    "print(f\"Velocity of jupiter sized object at earth's radius: {round(v_j, 4)} km/s\")\n",
    "\n",
    "diff = km_to_m(v_j) - km_to_m(v_e)\n",
    "print(f\"Difference of {round(diff, 4)} m/s or {round(mps_to_mph(diff), 4)} mph\")"
   ]
  },
  {
   "cell_type": "markdown",
   "id": "7df4ea67",
   "metadata": {},
   "source": [
    "# Get specific orbital energy (epsilon)"
   ]
  },
  {
   "cell_type": "code",
   "execution_count": 6,
   "id": "3e7d1b8b",
   "metadata": {},
   "outputs": [
    {
     "name": "stdout",
     "output_type": "stream",
     "text": [
      "Specific Orbital Energy (epsilon): -4.43e+08 J/kg\n"
     ]
    }
   ],
   "source": [
    "# Constants\n",
    "mu_sun = (G * M_s)  # Gravitational parameter for the Sun in m^3/s^2 (~1.327 * 10^20 m^3/s^2)\n",
    " \n",
    "# we should compare mu_sun to mu_earth_sun_system and mu_jupiter_sun_system\n",
    "mu_earth_sun_system = G * (M_s + M_e)\n",
    "mu_jupiter_sun_system = G * (M_s + M_j)\n",
    " \n",
    "mu = mu_sun\n",
    "# mu = 1.327 * 10**20  # m^3/s^2\n",
    "# mu = mu_jupiter_sun_system\n",
    " \n",
    "# Input values\n",
    "# v = velocity_earth  # Orbital velocity in meters per second (example value)\n",
    "v = velocity_earth\n",
    "# r = 1.496 * 10**11  # Distance from the Sun in meters (example value, 1 AU)\n",
    "r = 1000 * r_e\n",
    "\n",
    "# Calculate specific orbital energy\n",
    "epsilon = (v**2) / 2 - mu / r\n",
    "\n",
    "# Display the specific orbital energy\n",
    "print(f\"Specific Orbital Energy (epsilon): {epsilon:.2e} J/kg\")"
   ]
  },
  {
   "cell_type": "markdown",
   "id": "8e7b9bf2",
   "metadata": {},
   "source": [
    "# Calculate semi-major axis"
   ]
  },
  {
   "cell_type": "code",
   "execution_count": 7,
   "id": "20fd6edf",
   "metadata": {},
   "outputs": [
    {
     "name": "stdout",
     "output_type": "stream",
     "text": [
      "Semi-Major Axis (a): 1.49598e+11 meters\n"
     ]
    }
   ],
   "source": [
    "# Calculate the semi-major axis (a)\n",
    "a = -mu / (2 * epsilon)\n",
    "\n",
    "# Display the semi-major axis\n",
    "print(f\"Semi-Major Axis (a): {a:.5e} meters\")"
   ]
  },
  {
   "cell_type": "markdown",
   "id": "a6c65a7a",
   "metadata": {},
   "source": [
    "# Calculate specific angular momentum"
   ]
  },
  {
   "cell_type": "code",
   "execution_count": 8,
   "id": "a6e3072f",
   "metadata": {},
   "outputs": [
    {
     "name": "stdout",
     "output_type": "stream",
     "text": [
      "Specific Angular Momentum (h): 4.45e+15 m^2/s\n"
     ]
    }
   ],
   "source": [
    "# Calculate specific angular momentum (h)\n",
    "h = r * v\n",
    "\n",
    "# Display the specific angular momentum\n",
    "print(f\"Specific Angular Momentum (h): {h:.2e} m^2/s\")\n"
   ]
  },
  {
   "cell_type": "markdown",
   "id": "834d2ab8",
   "metadata": {},
   "source": [
    "# Calculate eccentricity"
   ]
  },
  {
   "cell_type": "code",
   "execution_count": 9,
   "id": "d6e5eb8e",
   "metadata": {},
   "outputs": [
    {
     "name": "stdout",
     "output_type": "stream",
     "text": [
      "Orbital Eccentricity (e): 0.0000\n"
     ]
    }
   ],
   "source": [
    "# Check that we won't do a square root of a negative number\n",
    "# assert (2 * epsilon * h**2) / mu**2 < -1, \\\n",
    "#     \"Error: Invalid input values, cannot calculate eccentricity. \" \\\n",
    "#     f\"{(2 * epsilon * h**2) / mu**2} can't be less than -1\"\n",
    "\n",
    "test = (2 * epsilon * h**2) / mu**2\n",
    "\n",
    "e = math.sqrt(1 + (2 * epsilon * h**2) / mu**2)\n",
    "print(f\"Orbital Eccentricity (e): {e:.4f}\")\n"
   ]
  },
  {
   "cell_type": "markdown",
   "id": "afefe277",
   "metadata": {},
   "source": [
    "# Calculate perihelion and aphelion distances"
   ]
  },
  {
   "cell_type": "code",
   "execution_count": 10,
   "id": "fa8350ce",
   "metadata": {},
   "outputs": [
    {
     "name": "stdout",
     "output_type": "stream",
     "text": [
      "Perihelion Distance (r_p): 1.49598e+11 meters\n",
      "Aphelion Distance (r_a): 1.49599e+11 meters\n"
     ]
    }
   ],
   "source": [
    "# Calculate perihelion distance (r_p)\n",
    "r_p = a * (1 - e)\n",
    "\n",
    "# Calculate aphelion distance (r_a)\n",
    "r_a = a * (1 + e)\n",
    "\n",
    "# Display the perihelion and aphelion distances\n",
    "print(f\"Perihelion Distance (r_p): {r_p:.5e} meters\")\n",
    "print(f\"Aphelion Distance (r_a): {r_a:.5e} meters\")"
   ]
  },
  {
   "cell_type": "markdown",
   "id": "f57824c6",
   "metadata": {},
   "source": [
    "# Calculate orbital period"
   ]
  },
  {
   "cell_type": "code",
   "execution_count": 11,
   "id": "1947f875",
   "metadata": {},
   "outputs": [
    {
     "name": "stdout",
     "output_type": "stream",
     "text": [
      "Orbital Period (T): 1.00020 years\n"
     ]
    }
   ],
   "source": [
    "# Calculate the orbital period (T)\n",
    "T = 2 * math.pi * math.sqrt(a**3 / mu)\n",
    "\n",
    "# Convert the period from seconds to years\n",
    "T_years = T / (60 * 60 * 24 * 365.25)\n",
    "\n",
    "# Display the orbital period\n",
    "print(f\"Orbital Period (T): {T_years:.5f} years\")"
   ]
  },
  {
   "cell_type": "markdown",
   "id": "9c609427",
   "metadata": {},
   "source": [
    "# Summary"
   ]
  },
  {
   "cell_type": "code",
   "execution_count": 12,
   "id": "e5c3f3c2-1335-4c16-8f9b-5b90c8717c65",
   "metadata": {},
   "outputs": [
    {
     "name": "stdout",
     "output_type": "stream",
     "text": [
      "Summary of Orbital Parameters:\n",
      "Semi-Major Axis (a): 1.49598e+11 meters\n",
      "Eccentricity (e): 0.0000\n",
      "Perihelion Distance (r_p): 1.49598e+11 meters\n",
      "Aphelion Distance (r_a): 1.49599e+11 meters\n",
      "Orbital Period (T): 1.00020 years\n"
     ]
    }
   ],
   "source": [
    "# Final summary of all calculated orbital parameters\n",
    "print(f\"Summary of Orbital Parameters:\")\n",
    "print(f\"Semi-Major Axis (a): {a:.5e} meters\")\n",
    "print(f\"Eccentricity (e): {e:.4f}\")\n",
    "print(f\"Perihelion Distance (r_p): {r_p:.5e} meters\")\n",
    "print(f\"Aphelion Distance (r_a): {r_a:.5e} meters\")\n",
    "print(f\"Orbital Period (T): {T_years:.5f} years\")"
   ]
  },
  {
   "cell_type": "code",
   "execution_count": null,
   "id": "84816b4d-8673-4065-abd9-f78da671f272",
   "metadata": {},
   "outputs": [],
   "source": []
  },
  {
   "cell_type": "code",
   "execution_count": null,
   "id": "347526c8-c553-4a43-82d7-96f613c8ce94",
   "metadata": {},
   "outputs": [],
   "source": []
  },
  {
   "cell_type": "code",
   "execution_count": 13,
   "id": "c8d9b427-c081-4fa8-851a-127120e17591",
   "metadata": {},
   "outputs": [
    {
     "ename": "ImportError",
     "evalue": "cannot import name 'RepresentationMixin' from 'represent' (/usr/local/lib/python3.11/site-packages/represent/__init__.py)",
     "output_type": "error",
     "traceback": [
      "\u001b[0;31m---------------------------------------------------------------------------\u001b[0m",
      "\u001b[0;31mImportError\u001b[0m                               Traceback (most recent call last)",
      "Cell \u001b[0;32mIn[13], line 4\u001b[0m\n\u001b[1;32m      1\u001b[0m \u001b[38;5;28;01mfrom\u001b[39;00m \u001b[38;5;21;01mnumpy\u001b[39;00m \u001b[38;5;28;01mimport\u001b[39;00m radians\n\u001b[1;32m      2\u001b[0m \u001b[38;5;28;01mfrom\u001b[39;00m \u001b[38;5;21;01mscipy\u001b[39;00m\u001b[38;5;21;01m.\u001b[39;00m\u001b[38;5;21;01mconstants\u001b[39;00m \u001b[38;5;28;01mimport\u001b[39;00m kilo\n\u001b[0;32m----> 4\u001b[0m \u001b[38;5;28;01mfrom\u001b[39;00m \u001b[38;5;21;01morbital\u001b[39;00m \u001b[38;5;28;01mimport\u001b[39;00m earth, KeplerianElements, Maneuver, plot, plot3d\n",
      "File \u001b[0;32m/usr/local/lib/python3.11/site-packages/orbital/__init__.py:4\u001b[0m\n\u001b[1;32m      1\u001b[0m \u001b[38;5;66;03m# encoding: utf-8\u001b[39;00m\n\u001b[1;32m      2\u001b[0m \u001b[38;5;28;01mfrom\u001b[39;00m \u001b[38;5;21;01m__future__\u001b[39;00m \u001b[38;5;28;01mimport\u001b[39;00m absolute_import, division, print_function\n\u001b[0;32m----> 4\u001b[0m \u001b[38;5;28;01mfrom\u001b[39;00m \u001b[38;5;21;01m.\u001b[39;00m\u001b[38;5;21;01mbodies\u001b[39;00m \u001b[38;5;28;01mimport\u001b[39;00m \u001b[38;5;241m*\u001b[39m\n\u001b[1;32m      5\u001b[0m \u001b[38;5;28;01mfrom\u001b[39;00m \u001b[38;5;21;01m.\u001b[39;00m\u001b[38;5;21;01mconstants\u001b[39;00m \u001b[38;5;28;01mimport\u001b[39;00m \u001b[38;5;241m*\u001b[39m\n\u001b[1;32m      6\u001b[0m \u001b[38;5;28;01mfrom\u001b[39;00m \u001b[38;5;21;01m.\u001b[39;00m\u001b[38;5;21;01melements\u001b[39;00m \u001b[38;5;28;01mimport\u001b[39;00m \u001b[38;5;241m*\u001b[39m\n",
      "File \u001b[0;32m/usr/local/lib/python3.11/site-packages/orbital/bodies.py:4\u001b[0m\n\u001b[1;32m      1\u001b[0m \u001b[38;5;66;03m# encoding: utf-8\u001b[39;00m\n\u001b[1;32m      2\u001b[0m \u001b[38;5;28;01mfrom\u001b[39;00m \u001b[38;5;21;01m__future__\u001b[39;00m \u001b[38;5;28;01mimport\u001b[39;00m absolute_import, division, print_function\n\u001b[0;32m----> 4\u001b[0m \u001b[38;5;28;01mfrom\u001b[39;00m \u001b[38;5;21;01mrepresent\u001b[39;00m \u001b[38;5;28;01mimport\u001b[39;00m RepresentationMixin\n\u001b[1;32m      6\u001b[0m \u001b[38;5;28;01mfrom\u001b[39;00m \u001b[38;5;21;01m.\u001b[39;00m \u001b[38;5;28;01mimport\u001b[39;00m constants \u001b[38;5;28;01mas\u001b[39;00m oc\n\u001b[1;32m      8\u001b[0m __all__ \u001b[38;5;241m=\u001b[39m [\n\u001b[1;32m      9\u001b[0m     \u001b[38;5;124m'\u001b[39m\u001b[38;5;124mmercury\u001b[39m\u001b[38;5;124m'\u001b[39m,\n\u001b[1;32m     10\u001b[0m     \u001b[38;5;124m'\u001b[39m\u001b[38;5;124mvenus\u001b[39m\u001b[38;5;124m'\u001b[39m,\n\u001b[0;32m   (...)\u001b[0m\n\u001b[1;32m     16\u001b[0m     \u001b[38;5;124m'\u001b[39m\u001b[38;5;124mneptune\u001b[39m\u001b[38;5;124m'\u001b[39m,\n\u001b[1;32m     17\u001b[0m ]\n",
      "\u001b[0;31mImportError\u001b[0m: cannot import name 'RepresentationMixin' from 'represent' (/usr/local/lib/python3.11/site-packages/represent/__init__.py)"
     ]
    }
   ],
   "source": [
    "from numpy import radians\n",
    "from scipy.constants import kilo\n",
    "\n",
    "from orbital import earth, KeplerianElements, Maneuver, plot, plot3d"
   ]
  },
  {
   "cell_type": "code",
   "execution_count": null,
   "id": "20204020-52af-4f69-84bc-7ce98877d50f",
   "metadata": {},
   "outputs": [],
   "source": [
    "# Create molniya orbit from period and eccentricity\n",
    "from orbital import earth_sidereal_day\n",
    "molniya = KeplerianElements.with_period(\n",
    "    earth_sidereal_day / 2, e=0.741, i=radians(63.4), arg_pe=radians(270),\n",
    "    body=earth)\n",
    "\n",
    "# Simple circular orbit\n",
    "orbit = KeplerianElements.with_altitude(1000 * kilo, body=earth)"
   ]
  }
 ],
 "metadata": {
  "kernelspec": {
   "display_name": "Python 3 (ipykernel)",
   "language": "python",
   "name": "python3"
  },
  "language_info": {
   "codemirror_mode": {
    "name": "ipython",
    "version": 3
   },
   "file_extension": ".py",
   "mimetype": "text/x-python",
   "name": "python",
   "nbconvert_exporter": "python",
   "pygments_lexer": "ipython3",
   "version": "3.11.6"
  }
 },
 "nbformat": 4,
 "nbformat_minor": 5
}
